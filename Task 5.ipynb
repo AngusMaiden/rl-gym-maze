{
 "cells": [
  {
   "cell_type": "markdown",
   "id": "1a22a552-a7e5-49d4-be9c-8a5ce0d11e9d",
   "metadata": {},
   "source": [
    "## SIT796 Reinforcement Learning"
   ]
  },
  {
   "cell_type": "markdown",
   "id": "72192e5d-c05c-40e8-9be6-00e747c11d58",
   "metadata": {},
   "source": [
    "Distinction Task 7.1 - Function Approximation Implementation  \n",
    "**Angus Maiden** | ID 220595465"
   ]
  },
  {
   "cell_type": "markdown",
   "id": "f15ae15f-b027-4875-a7d2-15d00e0b26b7",
   "metadata": {},
   "source": [
    "This task implements and compares the Semi-Gradient Sarsa(0) and Sarsa(λ) methods of control using linear function approximation."
   ]
  },
  {
   "cell_type": "code",
   "execution_count": 1,
   "id": "8414fa5e-1a29-4df2-b445-17cfb986dcaa",
   "metadata": {},
   "outputs": [
    {
     "data": {
      "text/plain": [
       "(0, 0)"
      ]
     },
     "execution_count": 1,
     "metadata": {},
     "output_type": "execute_result"
    }
   ],
   "source": [
    "# Import the necessary libraries.\n",
    "import gym\n",
    "import numpy as np\n",
    "import pandas as pd\n",
    "import matplotlib.pyplot as plt\n",
    "\n",
    "# Invoke the model maze environment  from Task 1.2C.\n",
    "env = gym.make('rl_gym_maze:rl-gym-maze-v0')\n",
    "env.reset()"
   ]
  },
  {
   "cell_type": "code",
   "execution_count": 2,
   "id": "d27d5895-6add-4c2d-9c2d-f4e153218e35",
   "metadata": {},
   "outputs": [],
   "source": [
    "# Define function for maximum key and value of a dictionary.\n",
    "def max_dict(d):\n",
    "    max_key = None\n",
    "    max_val = float('-inf')\n",
    "    for k, v in d.items():\n",
    "        if v > max_val:\n",
    "            max_val = v\n",
    "            max_key = k\n",
    "    return max_key, max_val"
   ]
  },
  {
   "cell_type": "code",
   "execution_count": 3,
   "id": "38848d6c-385c-4eb6-9938-7d02175e0b76",
   "metadata": {},
   "outputs": [],
   "source": [
    "# Define epsilon-greedy policy to ensure exploration.\n",
    "def random_action(a, eps=0.1):\n",
    "    p = np.random.random()\n",
    "    if p < (1 - eps):\n",
    "        return a\n",
    "    else:\n",
    "        return np.random.choice(4)"
   ]
  },
  {
   "cell_type": "code",
   "execution_count": 4,
   "id": "33e1742c-fc84-4129-aaad-0f11fbda2395",
   "metadata": {},
   "outputs": [],
   "source": [
    "# Define 'Model' class for calculating the gradient and predicting the target.\n",
    "# Note, in linear function approximation the gradient weights,\n",
    "# W are equal to the feature vector X(s).\n",
    "class Model:\n",
    "    def __init__(self):\n",
    "        self.theta = np.random.randn(25) / np.sqrt(25)\n",
    "    \n",
    "    def sa2x(self, s, a):\n",
    "        return np.array([\n",
    "        s[0]/10                 if a == 0 else 0,\n",
    "        s[1]/10                 if a == 0 else 0,\n",
    "        s[0]*s[1]/100           if a == 0 else 0,\n",
    "        s[0]*s[0]/100           if a == 0 else 0,\n",
    "        s[1]*s[1]/100           if a == 0 else 0,\n",
    "        1                       if a == 0 else 0,\n",
    "        s[0]/10                 if a == 1 else 0,\n",
    "        s[1]/10                 if a == 1 else 0,\n",
    "        s[0]*s[1]/100           if a == 1 else 0,\n",
    "        s[0]*s[0]/100           if a == 1 else 0,\n",
    "        s[1]*s[1]/100           if a == 1 else 0,\n",
    "        1                       if a == 1 else 0,\n",
    "        s[0]/10                 if a == 2 else 0,\n",
    "        s[1]/10                 if a == 2 else 0,\n",
    "        s[0]*s[1]/100           if a == 2 else 0,\n",
    "        s[0]*s[0]/100           if a == 2 else 0,\n",
    "        s[1]*s[1]/100           if a == 2 else 0,\n",
    "        1                       if a == 2 else 0,\n",
    "        s[0]/10                 if a == 3 else 0,\n",
    "        s[1]/10                 if a == 3 else 0,\n",
    "        s[0]*s[1]/100           if a == 3 else 0,\n",
    "        s[0]*s[0]/100           if a == 3 else 0,\n",
    "        s[1]*s[1]/100           if a == 3 else 0,\n",
    "        1                       if a == 3 else 0,\n",
    "        1\n",
    "        ])\n",
    "\n",
    "    def predict(self, s, a):\n",
    "        x = self.sa2x(s, a)\n",
    "        return self.theta.dot(x)\n",
    "\n",
    "    def grad(self, s, a):\n",
    "        return self.sa2x(s, a)"
   ]
  },
  {
   "cell_type": "code",
   "execution_count": 5,
   "id": "83229ffa-6de2-4db4-8103-0598d0a575f2",
   "metadata": {},
   "outputs": [],
   "source": [
    "# Define function for calculating Q(S,A,w) from gradient.\n",
    "def getQs(model, s):\n",
    "    # we need Q(s,a) to choose an action\n",
    "    # i.e. a = argmax[a]{ Q(s,a) }\n",
    "    Qs = {}\n",
    "    for a in range(4):\n",
    "        q_sa = model.predict(s, a)\n",
    "        Qs[a] = q_sa\n",
    "    return Qs"
   ]
  },
  {
   "cell_type": "code",
   "execution_count": 6,
   "id": "52fbbf9a-24ff-46fa-bab1-e890063daebd",
   "metadata": {},
   "outputs": [],
   "source": [
    "# Run an episode with optimised policy.\n",
    "def getPolicy(model):\n",
    "    \n",
    "    # Initalise policy (P), value (V) and action-value (Q) dictionaries.\n",
    "    P = {}\n",
    "    V = {}\n",
    "    Q = {}\n",
    "\n",
    "    # Sweep through each state.\n",
    "    for x in range(10):\n",
    "        for y in range(10):\n",
    "        \n",
    "            state = (x,y)\n",
    "            \n",
    "            Qs = getQs(model, state)\n",
    "            Q[state] = Qs\n",
    "            \n",
    "            action, max_q = max_dict(Qs)\n",
    "            \n",
    "            P[state] = action\n",
    "            V[state] = max_q\n",
    "\n",
    "            # Update environment state to next in sweep.\n",
    "            env.location = (x,y+1)\n",
    "            if env.location[1] == 10:\n",
    "                env.location = (x+1, 0)\n",
    "\n",
    "    return P, V, Q"
   ]
  },
  {
   "cell_type": "code",
   "execution_count": 7,
   "id": "7ad337ed-3823-421d-a5ed-1f33e50cca19",
   "metadata": {},
   "outputs": [],
   "source": [
    "# Define function to run an episode from a policy.\n",
    "def runMaze(P):\n",
    "    \n",
    "    # Initalise environment and other variables.\n",
    "    state = env.reset()\n",
    "    done = False\n",
    "    counter = 0\n",
    "    total_reward = 0\n",
    "    \n",
    "    # Limit episode to 1000 steps (hoping to finish the task before limit).\n",
    "    for step in range(1000):\n",
    "    \n",
    "        # Select next action based on optimal policy.\n",
    "        action = P[state]\n",
    "    \n",
    "        # Get state, reward and done variables from environment 'step' function.\n",
    "        next_state, reward, done, info = env.step(action)\n",
    "        \n",
    "        # Display current location as agent moves through maze.\n",
    "        print(f'\\rStep: {counter} | Location: {next_state} | Reward: {reward}', end='')\n",
    "        \n",
    "        # Update counter and reward tracking variables.\n",
    "        counter += 1\n",
    "        total_reward += reward\n",
    "  \n",
    "        # If we reach the goal, end the episode.\n",
    "        if done:\n",
    "            break\n",
    "        \n",
    "        # S = S'\n",
    "        state = next_state\n",
    "    \n",
    "    # Create a variable for calculating and displaying 'Finished maze' statistics.\n",
    "    if done:\n",
    "        finished = 'Yes'\n",
    "    else:\n",
    "        finished = 'No'\n",
    "    \n",
    "    # Display run results.\n",
    "    print(f'\\rNumber of steps: {counter} | Finished Maze?: {finished} | Total Reward: {total_reward}\\n')"
   ]
  },
  {
   "cell_type": "markdown",
   "id": "0927861b-5818-4850-b61f-f40b73a79cc3",
   "metadata": {},
   "source": [
    "## Sarsa(0)"
   ]
  },
  {
   "cell_type": "code",
   "execution_count": 8,
   "id": "eddb4b22-014e-4ec9-b0fb-14199c9cf623",
   "metadata": {
    "tags": []
   },
   "outputs": [
    {
     "name": "stdout",
     "output_type": "stream",
     "text": [
      "Iteration: 5000 | Step: 25 | Location: (9, 9)            "
     ]
    }
   ],
   "source": [
    "# Initialize model and other variables.\n",
    "model = Model()\n",
    "deltas = []\n",
    "gamma = 0.9\n",
    "ALPHA = 0.1\n",
    "t = 1.0\n",
    "total_rewards_list = []\n",
    "counter_list = []\n",
    "\n",
    "# Repeat for 5000 iterations.\n",
    "for it in range(5000):\n",
    "    \n",
    "    # Decrement alpha and epsilon every 100 iterations.\n",
    "    if it % 100 == 0:\n",
    "        t += .01\n",
    "    alpha = ALPHA / t\n",
    "    \n",
    "    # S = 0\n",
    "    state = env.reset()\n",
    "    done = False\n",
    "\n",
    "    # Get Q(S, A, w) so we can choose the first action.\n",
    "    Qs = getQs(model, state)\n",
    "    \n",
    "    # Initial epsilon-greedy action.\n",
    "    action = max_dict(Qs)[0]\n",
    "    action = random_action(action, eps=0.5 / t)\n",
    "    \n",
    "    # Initialise tracking variables.\n",
    "    biggest_change = 0\n",
    "    counter = 0\n",
    "    total_reward = 0\n",
    "    \n",
    "    # Loop for every step of the episode.\n",
    "    while not done and counter <= 1000:\n",
    "        \n",
    "        # Take action, get S' and R'.\n",
    "        next_state, reward, done, info = env.step(action)\n",
    "        \n",
    "        # Increment tracking variables.\n",
    "        counter += 1\n",
    "        total_reward += reward\n",
    "\n",
    "        # Display current location as agent moves through maze.\n",
    "        print(f'\\rIteration: {it+1} | Step: {counter} | Location: {next_state}          ', end='')\n",
    "        \n",
    "        # Store current weights.\n",
    "        old_theta = model.theta.copy()\n",
    "        \n",
    "        # Update equations.\n",
    "        if next_state[0] == 9 and next_state[1] == 9:\n",
    "            \n",
    "            # Terminal state, doesn't include Q(S', A', w).\n",
    "            model.theta += alpha * (reward - model.predict(state, action)) * model.grad(state, action)\n",
    "        \n",
    "        else:\n",
    "            \n",
    "            # Not terminal.\n",
    "            # Get Q(S, A, w).\n",
    "            Qs2 = getQs(model, next_state)\n",
    "            \n",
    "            # Take epsilon-greedy action.\n",
    "            next_action, maxQs2a2 = max_dict(Qs2)\n",
    "            next_action = random_action(next_action, eps = 0.5 / t)\n",
    "            \n",
    "            # Update Q(S, A, w) as we experience the episode.\n",
    "            model.theta += alpha * (reward + gamma * maxQs2a2 - model.predict(state, action)) \\\n",
    "            * model.grad(state, action)\n",
    "      \n",
    "            # Next state becomes current state.\n",
    "            state = next_state\n",
    "            action = next_action\n",
    "    \n",
    "    # Update tracking lists for plotting.\n",
    "    total_rewards_list.append(total_reward)\n",
    "    counter_list.append(counter)\n",
    "    biggest_change = max(biggest_change, np.abs(model.theta - old_theta).sum())\n",
    "    deltas.append(biggest_change)"
   ]
  },
  {
   "cell_type": "code",
   "execution_count": 9,
   "id": "af1a1157-dcb0-4bfc-8134-1f725e0e87b0",
   "metadata": {
    "tags": []
   },
   "outputs": [
    {
     "name": "stdout",
     "output_type": "stream",
     "text": [
      "Number of steps: 18 | Finished Maze?: Yes | Total Reward: -7\n",
      "\n"
     ]
    }
   ],
   "source": [
    "# Get final policy, state values and state-action values.\n",
    "P, V, Q = getPolicy(model)\n",
    "# Run an episode with final policy.\n",
    "runMaze(P)"
   ]
  },
  {
   "cell_type": "code",
   "execution_count": 10,
   "id": "6cd99231-4314-4253-853c-05016da572bd",
   "metadata": {},
   "outputs": [
    {
     "data": {
      "image/png": "[encoded data removed]",
      "text/plain": [
       "<Figure size 432x288 with 1 Axes>"
      ]
     },
     "metadata": {
      "needs_background": "light"
     },
     "output_type": "display_data"
    },
    {
     "name": "stdout",
     "output_type": "stream",
     "text": [
      "[-17.6916751   -2.79836987  19.66204924  12.84912779  10.05081586\n",
      "  -2.17951694 -37.88481079 -12.57409042  48.95273933  12.91891252\n",
      "  22.89070779  -2.04752764 -25.65882834  -3.11964622  22.13627399\n",
      "  24.16533605   9.71875358  -2.39970333 -25.05907616   0.79088052\n",
      "  19.33195524  25.18826551   6.6491099   -1.89299928  -8.06840652]\n"
     ]
    }
   ],
   "source": [
    "# Plot change in gradient over time.\n",
    "plt.plot(deltas)\n",
    "plt.show()\n",
    "print(model.theta)"
   ]
  },
  {
   "cell_type": "code",
   "execution_count": 11,
   "id": "f803865f-cfd9-44e8-8bca-738c2089a768",
   "metadata": {},
   "outputs": [
    {
     "name": "stdout",
     "output_type": "stream",
     "text": [
      "Grid view of the state values:\n",
      "\n",
      "[[ -9.96  -9.82  -9.54  -9.13  -8.58  -7.9   -7.09  -6.15  -5.07  -2.89]\n",
      " [-11.89 -11.87 -11.4  -10.8  -10.06  -9.19  -8.19  -7.05  -5.27  -2.14]\n",
      " [-13.27 -13.06 -12.64 -11.97 -11.04  -9.97  -8.78  -7.45  -4.75  -1.14]\n",
      " [-14.4  -13.99 -13.38 -12.56 -11.51 -10.25  -8.86  -7.3   -3.98   0.12]\n",
      " [-15.27 -14.66 -13.85 -12.8  -11.48 -10.03  -8.45  -6.73  -2.95   1.64]\n",
      " [-15.88 -15.08 -13.84 -12.46 -10.95  -9.3   -7.53  -5.62  -1.66   3.42]\n",
      " [-15.93 -14.62 -13.19 -11.61  -9.91  -8.07  -6.1   -4.    -0.11   5.46]\n",
      " [-15.16 -13.66 -12.03 -10.27  -8.37  -6.34  -4.17  -1.88   1.7    7.76]\n",
      " [-13.89 -12.2  -10.37  -8.41  -6.32  -4.1   -1.74   0.75   3.76  10.32]\n",
      " [-12.11 -10.23  -8.21  -6.06  -3.77  -1.35   1.2    3.88   6.7   13.13]]\n"
     ]
    }
   ],
   "source": [
    "# Display final state values.\n",
    "print(f'Grid view of the state values:\\n')\n",
    "np.set_printoptions(precision = 2, suppress = True, linewidth = 100)\n",
    "print(np.array([v for v in V.values()]).reshape([10,10]))"
   ]
  },
  {
   "cell_type": "code",
   "execution_count": 12,
   "id": "7635ac61-9d04-4e56-aef1-93e9cd73e346",
   "metadata": {},
   "outputs": [
    {
     "data": {
      "text/plain": [
       "<function matplotlib.pyplot.show(close=None, block=None)>"
      ]
     },
     "execution_count": 12,
     "metadata": {},
     "output_type": "execute_result"
    },
    {
     "data": {
      "image/png": "[encoded data removed]",
      "text/plain": [
       "<Figure size 432x288 with 1 Axes>"
      ]
     },
     "metadata": {
      "needs_background": "light"
     },
     "output_type": "display_data"
    }
   ],
   "source": [
    "# Plot the results as a moving average (to see trends).\n",
    "rolling_average_rewards = pd.DataFrame(total_rewards_list).rolling(100).mean()\n",
    "plt.plot(rolling_average_rewards)\n",
    "plt.title('Semi-gradient Sarsa Performance')\n",
    "plt.xlabel('Iteration')\n",
    "plt.ylabel('Total Episode Reward')\n",
    "plt.legend(['Rolling Average (Window=100)'])\n",
    "plt.show"
   ]
  },
  {
   "cell_type": "markdown",
   "id": "eab357fd-226c-4e10-b78a-9fd514af16a4",
   "metadata": {},
   "source": [
    "### Sarsa(λ)"
   ]
  },
  {
   "cell_type": "code",
   "execution_count": 13,
   "id": "6c6ea683-54f3-45a7-b8cd-4e66f18420ab",
   "metadata": {},
   "outputs": [
    {
     "name": "stdout",
     "output_type": "stream",
     "text": [
      "Iteration: 5000 | Step: 30 | Location: (9, 9)            "
     ]
    }
   ],
   "source": [
    "# Initialize model and other variables.\n",
    "model_sarsalambda = Model()\n",
    "deltas_sarsalambda = []\n",
    "gamma = 0.9\n",
    "lambda_value = 0.5\n",
    "ALPHA = 0.1\n",
    "t = 1.0\n",
    "total_rewards_list_sarsalambda = []\n",
    "counter_list_sarsalambda = []\n",
    "\n",
    "# Repeat for 5000 iterations.\n",
    "for it in range(5000):\n",
    "    \n",
    "    # Decrement alpha and epsilon every 100 iterations.\n",
    "    if it % 100 == 0:\n",
    "        t += .01\n",
    "    alpha = ALPHA / t\n",
    "    \n",
    "    # S = 0\n",
    "    state = env.reset()\n",
    "    done = False\n",
    "\n",
    "    # Get Q(S, A, w) so we can choose the first action.\n",
    "    Qs = getQs(model_sarsalambda, state)\n",
    "    \n",
    "    # Initial epsilon-greedy action.\n",
    "    action = max_dict(Qs)[0]\n",
    "    action = random_action(action, eps=0.5 / t)\n",
    "\n",
    "    # Initalise tracking variables.\n",
    "    biggest_change = 0\n",
    "    counter = 0\n",
    "    total_reward = 0\n",
    "    z = np.zeros(25)\n",
    "    \n",
    "    # Loop for every step of the episode.\n",
    "    while not done and counter <= 1000:\n",
    "        \n",
    "        # Take action, get S' and R'.\n",
    "        next_state, reward, done, info = env.step(action)\n",
    "        \n",
    "        # Increment tracking variables.\n",
    "        counter += 1\n",
    "        total_reward += reward\n",
    "\n",
    "        # Display current location as agent moves through maze.\n",
    "        print(f'\\rIteration: {it+1} | Step: {counter} | Location: {next_state}          ', end='')\n",
    "        \n",
    "        # Store current weights.\n",
    "        old_theta = model_sarsalambda.theta.copy()\n",
    "        z = gamma * lambda_value * z + model_sarsalambda.grad(state, action)\n",
    "        \n",
    "        # Update equations.\n",
    "        if next_state[0] == 9 and next_state[1] == 9:\n",
    "            \n",
    "            # Terminal state, doesn't include Q(S', A', w).\n",
    "            model_sarsalambda.theta += alpha * (reward - model_sarsalambda.predict(state, action)) \\\n",
    "            * model_sarsalambda.grad(state, action) * z\n",
    "        \n",
    "        else:\n",
    "            \n",
    "            # Not terminal.\n",
    "            # Get Q(S, A, w).\n",
    "            Qs2 = getQs(model_sarsalambda, next_state)\n",
    "            next_action, maxQs2a2 = max_dict(Qs2)\n",
    "            next_action = random_action(next_action, eps = 0.5 / t)\n",
    "            \n",
    "            # Update Q(S, A, w) as we experience the episode.\n",
    "            model_sarsalambda.theta += alpha * (reward + gamma * maxQs2a2 - model_sarsalambda.predict(state, action)) \\\n",
    "            * model_sarsalambda.grad(state, action) * z\n",
    "      \n",
    "            # Next state becomes current state.\n",
    "            state = next_state\n",
    "            action = next_action\n",
    "    \n",
    "    # Update tracking lists for plotting.\n",
    "    total_rewards_list_sarsalambda.append(total_reward)\n",
    "    counter_list_sarsalambda.append(counter)\n",
    "    biggest_change = max(biggest_change, np.abs(model_sarsalambda.theta - old_theta).sum())\n",
    "    deltas_sarsalambda.append(biggest_change)"
   ]
  },
  {
   "cell_type": "code",
   "execution_count": 14,
   "id": "2dc26b72-765f-4f8d-8db7-cb232d1a40e1",
   "metadata": {},
   "outputs": [
    {
     "name": "stdout",
     "output_type": "stream",
     "text": [
      "Number of steps: 18 | Finished Maze?: Yes | Total Reward: -7\n",
      "\n"
     ]
    }
   ],
   "source": [
    "# Get final policy, state values and state-action values.\n",
    "P_sarsalambda, V_sarsalambda, Q_sarsalambda = getPolicy(model_sarsalambda)\n",
    "# Run an episode with final policy.\n",
    "runMaze(P_sarsalambda)"
   ]
  },
  {
   "cell_type": "code",
   "execution_count": 15,
   "id": "20548527-6143-43f2-ab35-f04e0d2bff4f",
   "metadata": {},
   "outputs": [
    {
     "data": {
      "image/png": "[encoded data removed]",
      "text/plain": [
       "<Figure size 432x288 with 1 Axes>"
      ]
     },
     "metadata": {
      "needs_background": "light"
     },
     "output_type": "display_data"
    },
    {
     "name": "stdout",
     "output_type": "stream",
     "text": [
      "[ -10.9   -11.     19.22    7.07   18.5  -446.14  -26.59  -22.09   41.24    6.69   33.42 -446.48\n",
      "  -16.22   -8.74   23.55   11.43   14.55 -446.51  -10.77   -4.62   15.38   12.82   10.95 -445.25\n",
      "  436.97]\n"
     ]
    }
   ],
   "source": [
    "# Plot change in gradient over time.\n",
    "plt.plot(deltas_sarsalambda)\n",
    "plt.show()\n",
    "print(model_sarsalambda.theta)"
   ]
  },
  {
   "cell_type": "code",
   "execution_count": 16,
   "id": "6c1677ef-2492-4d57-8720-e82aa71aefc2",
   "metadata": {},
   "outputs": [
    {
     "name": "stdout",
     "output_type": "stream",
     "text": [
      "Grid view of the state values:\n",
      "\n",
      "[[ -8.29  -8.64  -8.77  -8.69  -8.38  -7.86  -7.12  -6.16  -4.98  -2.32]\n",
      " [ -9.24  -9.43  -9.41  -9.18  -8.72  -8.04  -7.15  -6.03  -4.7   -1.2 ]\n",
      " [ -9.93  -9.97  -9.8   -9.41  -8.8   -7.96  -6.92  -5.65  -4.16   0.05]\n",
      " [-10.36 -10.26  -9.93  -9.38  -8.62  -7.63  -6.43  -5.01  -3.27   1.44]\n",
      " [-10.54 -10.28  -9.8   -9.1   -8.18  -7.04  -5.68  -4.11  -2.16   2.96]\n",
      " [-10.47 -10.05  -9.41  -8.56  -7.49  -6.2   -4.68  -2.95  -0.92   4.62]\n",
      " [-10.13  -9.56  -8.77  -7.77  -6.54  -5.09  -3.43  -1.54   0.56   6.41]\n",
      " [ -9.54  -8.82  -7.88  -6.71  -5.33  -3.73  -1.92   0.12   2.38   8.33]\n",
      " [ -8.7   -7.82  -6.72  -5.41  -3.87  -2.12  -0.15   2.05   4.46  10.39]\n",
      " [ -7.59  -6.56  -5.31  -3.84  -2.15  -0.25   1.88   4.23   6.79  12.58]]\n"
     ]
    }
   ],
   "source": [
    "# Display final state values.\n",
    "print(f'Grid view of the state values:\\n')\n",
    "np.set_printoptions(precision = 2, suppress = True, linewidth = 100)\n",
    "print(np.array([v for v in V_sarsalambda.values()]).reshape([10,10]))"
   ]
  },
  {
   "cell_type": "code",
   "execution_count": 17,
   "id": "994fd4b2-41cc-44a3-b2c8-b1d5ab5b154e",
   "metadata": {},
   "outputs": [
    {
     "data": {
      "text/plain": [
       "<function matplotlib.pyplot.show(close=None, block=None)>"
      ]
     },
     "execution_count": 17,
     "metadata": {},
     "output_type": "execute_result"
    },
    {
     "data": {
      "image/png": "[encoded data removed]",
      "text/plain": [
       "<Figure size 432x288 with 1 Axes>"
      ]
     },
     "metadata": {
      "needs_background": "light"
     },
     "output_type": "display_data"
    }
   ],
   "source": [
    "# Plot the results as a moving average (to see trends).\n",
    "rolling_average_rewards_sarsalambda = pd.DataFrame(total_rewards_list_sarsalambda).rolling(100).mean()\n",
    "plt.plot(rolling_average_rewards_sarsalambda)\n",
    "plt.title('Semi-gradient Sarsa(λ) Performance')\n",
    "plt.xlabel('Iteration')\n",
    "plt.ylabel('Total Episode Reward')\n",
    "plt.legend(['Rolling Average (Window=100)'])\n",
    "plt.show"
   ]
  }
 ],
 "metadata": {
  "kernelspec": {
   "display_name": "Python 3",
   "language": "python",
   "name": "python3"
  },
  "language_info": {
   "codemirror_mode": {
    "name": "ipython",
    "version": 3
   },
   "file_extension": ".py",
   "mimetype": "text/x-python",
   "name": "python",
   "nbconvert_exporter": "python",
   "pygments_lexer": "ipython3",
   "version": "3.8.10"
  }
 },
 "nbformat": 4,
 "nbformat_minor": 5
}
